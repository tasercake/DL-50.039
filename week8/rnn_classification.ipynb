{
 "cells": [
  {
   "cell_type": "code",
   "execution_count": 96,
   "metadata": {},
   "outputs": [
    {
     "name": "stdout",
     "output_type": "stream",
     "text": [
      "The autoreload extension is already loaded. To reload it, use:\n",
      "  %reload_ext autoreload\n"
     ]
    }
   ],
   "source": [
    "%load_ext autoreload\n",
    "%autoreload 2"
   ]
  },
  {
   "cell_type": "code",
   "execution_count": 97,
   "metadata": {},
   "outputs": [],
   "source": [
    "import os\n",
    "import time\n",
    "import math\n",
    "import random\n",
    "import string\n",
    "import unicodedata\n",
    "import matplotlib.pyplot as plt\n",
    "import seaborn as sns\n",
    "from glob import glob\n",
    "from pathlib import Path\n",
    "import numpy as np\n",
    "from tqdm.notebook import trange, tqdm\n",
    "\n",
    "import torch\n",
    "import torch.nn as nn\n",
    "import torch.nn.functional as F\n",
    "import torch.optim as optim\n",
    "from torch.utils.data import Dataset, DataLoader, WeightedRandomSampler\n",
    "import torchvision\n",
    "from torchvision import transforms\n",
    "\n",
    "# sns.set()\n",
    "%matplotlib inline"
   ]
  },
  {
   "cell_type": "code",
   "execution_count": 98,
   "metadata": {},
   "outputs": [],
   "source": [
    "class NamesDataset(Dataset):\n",
    "    def __init__(self, data_dir, letters: str = None):\n",
    "        self.data_dir = Path(data_dir)\n",
    "\n",
    "        self.letters = letters or string.ascii_letters + \",.;'\"\n",
    "        self.num_letters = len(self.letters)\n",
    "\n",
    "        self.files = sorted(self.data_dir.glob(\"*.txt\"))\n",
    "        self.categories = []\n",
    "        self.category_lines = {}\n",
    "        for file in self.files:\n",
    "            category = file.stem\n",
    "            self.categories.append(category)\n",
    "            self.category_lines[category] = self._read_lines(file)\n",
    "        self.num_categories = len(self.categories)\n",
    "        self.cat_lengths = [len(self.category_lines[cat]) for cat in self.categories]\n",
    "        self.cum_cat_lengths = np.cumsum(self.cat_lengths)\n",
    "        print(\"Category sizes:\", {cat: cat_len for cat, cat_len in zip(self.categories, self.cat_lengths)})\n",
    "        self.samples = []\n",
    "        for cat, names in self.category_lines.items():\n",
    "            self.samples.extend(zip(names, [self.categories.index(cat)] * len(names)))\n",
    "        self.class_weights = [min(self.cat_lengths) / l for l in self.cat_lengths]\n",
    "        self.sample_weights = [self.class_weights[c] for n, c in self.samples]\n",
    "\n",
    "    def _read_lines(self, file):\n",
    "        with open(file, encoding=\"utf8\") as f:\n",
    "            lines = f.read().strip().split()\n",
    "            return list(map(self._unicode_to_ascii, lines))\n",
    "\n",
    "    def _unicode_to_ascii(self, s):\n",
    "        normalized = unicodedata.normalize(\"NFD\", s)\n",
    "        return \"\".join(filter(\n",
    "            lambda c: unicodedata.category(c) != \"Mn\" and c in self.letters,\n",
    "            normalized\n",
    "        ))\n",
    "\n",
    "    def _letter_to_index(self, letter):\n",
    "        return self.letters.find(letter)\n",
    "\n",
    "    def _line_to_tensor(self, line):\n",
    "        tensor = torch.zeros(len(line), self.num_letters)\n",
    "        letter_indices = list(map(self._letter_to_index, line))\n",
    "        for i, letter_idx in enumerate(letter_indices):\n",
    "            tensor[i][letter_idx] = 1\n",
    "        return tensor\n",
    "\n",
    "    def index_to_category(self, index):\n",
    "        return self.categories[index]\n",
    "    \n",
    "    def sample_to_tensor(self, name, cat_idx):\n",
    "        name_tensor = self._line_to_tensor(name)\n",
    "        category_tensor = torch.tensor(cat_idx).long()\n",
    "        return name_tensor, category_tensor\n",
    "\n",
    "    def __getitem__(self, idx):\n",
    "        if idx < 0:\n",
    "            idx = len(self) + idx\n",
    "#         # First `i` where idx >= self.cumulative_category_lengths[i]\n",
    "        cat_index = next(\n",
    "            i for i, v in enumerate(self.cum_cat_lengths) if v > idx\n",
    "        )\n",
    "#         idx = idx - self.cum_cat_lengths[cat_index - 1] if cat_index else idx\n",
    "#         category = self.categories[cat_index]\n",
    "#         name = self.category_lines[category][idx]\n",
    "        name, cat_idx = self.samples[idx]\n",
    "        return self.sample_to_tensor(name, cat_idx)\n",
    "\n",
    "    def decode_name_tensor(self, name_tensor):\n",
    "        return \"\".join([self.letters[i] for i in name_tensor.argmax(1)])\n",
    "\n",
    "    def __len__(self):\n",
    "        return self.cum_cat_lengths[-1]\n",
    "\n",
    "# NamesDataset(\"data/names\")[2268]"
   ]
  },
  {
   "cell_type": "code",
   "execution_count": 102,
   "metadata": {},
   "outputs": [],
   "source": [
    "class RNNClassifier(nn.Module):\n",
    "    def __init__(self, input_size, hidden_size, output_size):\n",
    "        super().__init__()\n",
    "        self.input_size = input_size\n",
    "        self.hidden_size = hidden_size\n",
    "        self.output_size = output_size\n",
    "\n",
    "        self.lstm = nn.LSTM(\n",
    "            self.input_size, self.hidden_size, num_layers=1,\n",
    "            batch_first=True,\n",
    "        )\n",
    "        self.fc = nn.Linear(self.hidden_size, self.output_size)\n",
    "\n",
    "    def forward(self, inp):\n",
    "        print(nn.utils.rnn.pad_packed_sequence(inp)[0].shape)\n",
    "        lstm_out, (hidden, cell) = self.lstm(inp)\n",
    "        print(hidden.shape)\n",
    "        lstm_out, _ = nn.utils.rnn.pad_packed_sequence(\n",
    "            lstm_out,\n",
    "            batch_first=True,\n",
    "        )\n",
    "        lstm_out = lstm_out[:, -1]\n",
    "        logits = self.fc(hidden)\n",
    "        return logits"
   ]
  },
  {
   "cell_type": "code",
   "execution_count": 103,
   "metadata": {},
   "outputs": [],
   "source": [
    "# Utility functions\n",
    "def collate_batch(batch):\n",
    "    inputs = [s[0] for s in batch]\n",
    "    inputs = torch.nn.utils.rnn.pack_sequence(inputs, enforce_sorted=False)\n",
    "    labels = torch.stack([s[1] for s in batch])\n",
    "    return inputs, labels\n",
    "\n",
    "def unpack_tensor(packed_tensor):\n",
    "    padded_tensor, lengths = torch.nn.utils.rnn.pad_packed_sequence(\n",
    "        packed_tensor,\n",
    "        batch_first=True,\n",
    "    )\n",
    "    tensors = [t[:l] for t, l in zip(padded_tensor, lengths)]\n",
    "    return tensors\n",
    "\n",
    "def time_since(since):\n",
    "    now = time.time()\n",
    "    s = now - since\n",
    "    m = math.floor(s / 60)\n",
    "    s -= m * 60\n",
    "    return '%dm %ds' % (m, s)"
   ]
  },
  {
   "cell_type": "code",
   "execution_count": 104,
   "metadata": {},
   "outputs": [
    {
     "name": "stdout",
     "output_type": "stream",
     "text": [
      "Category sizes: {'Arabic': 2000, 'Chinese': 268, 'Czech': 520, 'Dutch': 298, 'English': 3671, 'French': 282, 'German': 730, 'Greek': 203, 'Irish': 232, 'Italian': 726, 'Japanese': 991, 'Korean': 94, 'Polish': 139, 'Portuguese': 75, 'Russian': 9480, 'Scottish': 100, 'Spanish': 307, 'Vietnamese': 73}\n",
      "Dataset contains 20189 samples.\n"
     ]
    },
    {
     "data": {
      "application/vnd.jupyter.widget-view+json": {
       "model_id": "bf150467a57844209c435a4ad287bdfa",
       "version_major": 2,
       "version_minor": 0
      },
      "text/plain": [
       "HBox(children=(FloatProgress(value=0.0, layout=Layout(flex='2'), max=631.0), HTML(value='')), layout=Layout(di…"
      ]
     },
     "metadata": {},
     "output_type": "display_data"
    },
    {
     "name": "stdout",
     "output_type": "stream",
     "text": [
      "torch.Size([12, 32, 56])\n",
      "torch.Size([1, 32, 128])\n"
     ]
    },
    {
     "ename": "ValueError",
     "evalue": "Expected input batch_size (1) to match target batch_size (32).",
     "output_type": "error",
     "traceback": [
      "\u001b[0;31m---------------------------------------------------------------------------\u001b[0m",
      "\u001b[0;31mValueError\u001b[0m                                Traceback (most recent call last)",
      "\u001b[0;32m<ipython-input-104-359c994f3d96>\u001b[0m in \u001b[0;36m<module>\u001b[0;34m\u001b[0m\n\u001b[1;32m     55\u001b[0m         \u001b[0mpred\u001b[0m \u001b[0;34m=\u001b[0m \u001b[0mrnn\u001b[0m\u001b[0;34m(\u001b[0m\u001b[0mname_tensor\u001b[0m\u001b[0;34m)\u001b[0m\u001b[0;34m\u001b[0m\u001b[0;34m\u001b[0m\u001b[0m\n\u001b[1;32m     56\u001b[0m         \u001b[0mpred_idx\u001b[0m \u001b[0;34m=\u001b[0m \u001b[0mpred\u001b[0m\u001b[0;34m.\u001b[0m\u001b[0margmax\u001b[0m\u001b[0;34m(\u001b[0m\u001b[0;36m1\u001b[0m\u001b[0;34m)\u001b[0m\u001b[0;34m\u001b[0m\u001b[0;34m\u001b[0m\u001b[0m\n\u001b[0;32m---> 57\u001b[0;31m         \u001b[0mloss\u001b[0m \u001b[0;34m=\u001b[0m \u001b[0mloss_fn\u001b[0m\u001b[0;34m(\u001b[0m\u001b[0mpred\u001b[0m\u001b[0;34m,\u001b[0m \u001b[0mlabel\u001b[0m\u001b[0;34m)\u001b[0m\u001b[0;34m\u001b[0m\u001b[0;34m\u001b[0m\u001b[0m\n\u001b[0m\u001b[1;32m     58\u001b[0m         \u001b[0mcorrect\u001b[0m \u001b[0;34m=\u001b[0m \u001b[0mtorch\u001b[0m\u001b[0;34m.\u001b[0m\u001b[0msum\u001b[0m\u001b[0;34m(\u001b[0m\u001b[0mpred_idx\u001b[0m \u001b[0;34m==\u001b[0m \u001b[0mlabel\u001b[0m\u001b[0;34m)\u001b[0m\u001b[0;34m\u001b[0m\u001b[0;34m\u001b[0m\u001b[0m\n\u001b[1;32m     59\u001b[0m         \u001b[0mpbar\u001b[0m\u001b[0;34m.\u001b[0m\u001b[0mset_postfix\u001b[0m\u001b[0;34m(\u001b[0m\u001b[0mloss\u001b[0m\u001b[0;34m=\u001b[0m\u001b[0mloss\u001b[0m\u001b[0;34m.\u001b[0m\u001b[0mitem\u001b[0m\u001b[0;34m(\u001b[0m\u001b[0;34m)\u001b[0m\u001b[0;34m)\u001b[0m\u001b[0;34m\u001b[0m\u001b[0;34m\u001b[0m\u001b[0m\n",
      "\u001b[0;32m/opt/anaconda/miniconda3/envs/ai/lib/python3.7/site-packages/torch/nn/modules/module.py\u001b[0m in \u001b[0;36m__call__\u001b[0;34m(self, *input, **kwargs)\u001b[0m\n\u001b[1;32m    530\u001b[0m             \u001b[0mresult\u001b[0m \u001b[0;34m=\u001b[0m \u001b[0mself\u001b[0m\u001b[0;34m.\u001b[0m\u001b[0m_slow_forward\u001b[0m\u001b[0;34m(\u001b[0m\u001b[0;34m*\u001b[0m\u001b[0minput\u001b[0m\u001b[0;34m,\u001b[0m \u001b[0;34m**\u001b[0m\u001b[0mkwargs\u001b[0m\u001b[0;34m)\u001b[0m\u001b[0;34m\u001b[0m\u001b[0;34m\u001b[0m\u001b[0m\n\u001b[1;32m    531\u001b[0m         \u001b[0;32melse\u001b[0m\u001b[0;34m:\u001b[0m\u001b[0;34m\u001b[0m\u001b[0;34m\u001b[0m\u001b[0m\n\u001b[0;32m--> 532\u001b[0;31m             \u001b[0mresult\u001b[0m \u001b[0;34m=\u001b[0m \u001b[0mself\u001b[0m\u001b[0;34m.\u001b[0m\u001b[0mforward\u001b[0m\u001b[0;34m(\u001b[0m\u001b[0;34m*\u001b[0m\u001b[0minput\u001b[0m\u001b[0;34m,\u001b[0m \u001b[0;34m**\u001b[0m\u001b[0mkwargs\u001b[0m\u001b[0;34m)\u001b[0m\u001b[0;34m\u001b[0m\u001b[0;34m\u001b[0m\u001b[0m\n\u001b[0m\u001b[1;32m    533\u001b[0m         \u001b[0;32mfor\u001b[0m \u001b[0mhook\u001b[0m \u001b[0;32min\u001b[0m \u001b[0mself\u001b[0m\u001b[0;34m.\u001b[0m\u001b[0m_forward_hooks\u001b[0m\u001b[0;34m.\u001b[0m\u001b[0mvalues\u001b[0m\u001b[0;34m(\u001b[0m\u001b[0;34m)\u001b[0m\u001b[0;34m:\u001b[0m\u001b[0;34m\u001b[0m\u001b[0;34m\u001b[0m\u001b[0m\n\u001b[1;32m    534\u001b[0m             \u001b[0mhook_result\u001b[0m \u001b[0;34m=\u001b[0m \u001b[0mhook\u001b[0m\u001b[0;34m(\u001b[0m\u001b[0mself\u001b[0m\u001b[0;34m,\u001b[0m \u001b[0minput\u001b[0m\u001b[0;34m,\u001b[0m \u001b[0mresult\u001b[0m\u001b[0;34m)\u001b[0m\u001b[0;34m\u001b[0m\u001b[0;34m\u001b[0m\u001b[0m\n",
      "\u001b[0;32m/opt/anaconda/miniconda3/envs/ai/lib/python3.7/site-packages/torch/nn/modules/loss.py\u001b[0m in \u001b[0;36mforward\u001b[0;34m(self, input, target)\u001b[0m\n\u001b[1;32m    914\u001b[0m     \u001b[0;32mdef\u001b[0m \u001b[0mforward\u001b[0m\u001b[0;34m(\u001b[0m\u001b[0mself\u001b[0m\u001b[0;34m,\u001b[0m \u001b[0minput\u001b[0m\u001b[0;34m,\u001b[0m \u001b[0mtarget\u001b[0m\u001b[0;34m)\u001b[0m\u001b[0;34m:\u001b[0m\u001b[0;34m\u001b[0m\u001b[0;34m\u001b[0m\u001b[0m\n\u001b[1;32m    915\u001b[0m         return F.cross_entropy(input, target, weight=self.weight,\n\u001b[0;32m--> 916\u001b[0;31m                                ignore_index=self.ignore_index, reduction=self.reduction)\n\u001b[0m\u001b[1;32m    917\u001b[0m \u001b[0;34m\u001b[0m\u001b[0m\n\u001b[1;32m    918\u001b[0m \u001b[0;34m\u001b[0m\u001b[0m\n",
      "\u001b[0;32m/opt/anaconda/miniconda3/envs/ai/lib/python3.7/site-packages/torch/nn/functional.py\u001b[0m in \u001b[0;36mcross_entropy\u001b[0;34m(input, target, weight, size_average, ignore_index, reduce, reduction)\u001b[0m\n\u001b[1;32m   2019\u001b[0m     \u001b[0;32mif\u001b[0m \u001b[0msize_average\u001b[0m \u001b[0;32mis\u001b[0m \u001b[0;32mnot\u001b[0m \u001b[0;32mNone\u001b[0m \u001b[0;32mor\u001b[0m \u001b[0mreduce\u001b[0m \u001b[0;32mis\u001b[0m \u001b[0;32mnot\u001b[0m \u001b[0;32mNone\u001b[0m\u001b[0;34m:\u001b[0m\u001b[0;34m\u001b[0m\u001b[0;34m\u001b[0m\u001b[0m\n\u001b[1;32m   2020\u001b[0m         \u001b[0mreduction\u001b[0m \u001b[0;34m=\u001b[0m \u001b[0m_Reduction\u001b[0m\u001b[0;34m.\u001b[0m\u001b[0mlegacy_get_string\u001b[0m\u001b[0;34m(\u001b[0m\u001b[0msize_average\u001b[0m\u001b[0;34m,\u001b[0m \u001b[0mreduce\u001b[0m\u001b[0;34m)\u001b[0m\u001b[0;34m\u001b[0m\u001b[0;34m\u001b[0m\u001b[0m\n\u001b[0;32m-> 2021\u001b[0;31m     \u001b[0;32mreturn\u001b[0m \u001b[0mnll_loss\u001b[0m\u001b[0;34m(\u001b[0m\u001b[0mlog_softmax\u001b[0m\u001b[0;34m(\u001b[0m\u001b[0minput\u001b[0m\u001b[0;34m,\u001b[0m \u001b[0;36m1\u001b[0m\u001b[0;34m)\u001b[0m\u001b[0;34m,\u001b[0m \u001b[0mtarget\u001b[0m\u001b[0;34m,\u001b[0m \u001b[0mweight\u001b[0m\u001b[0;34m,\u001b[0m \u001b[0;32mNone\u001b[0m\u001b[0;34m,\u001b[0m \u001b[0mignore_index\u001b[0m\u001b[0;34m,\u001b[0m \u001b[0;32mNone\u001b[0m\u001b[0;34m,\u001b[0m \u001b[0mreduction\u001b[0m\u001b[0;34m)\u001b[0m\u001b[0;34m\u001b[0m\u001b[0;34m\u001b[0m\u001b[0m\n\u001b[0m\u001b[1;32m   2022\u001b[0m \u001b[0;34m\u001b[0m\u001b[0m\n\u001b[1;32m   2023\u001b[0m \u001b[0;34m\u001b[0m\u001b[0m\n",
      "\u001b[0;32m/opt/anaconda/miniconda3/envs/ai/lib/python3.7/site-packages/torch/nn/functional.py\u001b[0m in \u001b[0;36mnll_loss\u001b[0;34m(input, target, weight, size_average, ignore_index, reduce, reduction)\u001b[0m\n\u001b[1;32m   1834\u001b[0m     \u001b[0;32mif\u001b[0m \u001b[0minput\u001b[0m\u001b[0;34m.\u001b[0m\u001b[0msize\u001b[0m\u001b[0;34m(\u001b[0m\u001b[0;36m0\u001b[0m\u001b[0;34m)\u001b[0m \u001b[0;34m!=\u001b[0m \u001b[0mtarget\u001b[0m\u001b[0;34m.\u001b[0m\u001b[0msize\u001b[0m\u001b[0;34m(\u001b[0m\u001b[0;36m0\u001b[0m\u001b[0;34m)\u001b[0m\u001b[0;34m:\u001b[0m\u001b[0;34m\u001b[0m\u001b[0;34m\u001b[0m\u001b[0m\n\u001b[1;32m   1835\u001b[0m         raise ValueError('Expected input batch_size ({}) to match target batch_size ({}).'\n\u001b[0;32m-> 1836\u001b[0;31m                          .format(input.size(0), target.size(0)))\n\u001b[0m\u001b[1;32m   1837\u001b[0m     \u001b[0;32mif\u001b[0m \u001b[0mdim\u001b[0m \u001b[0;34m==\u001b[0m \u001b[0;36m2\u001b[0m\u001b[0;34m:\u001b[0m\u001b[0;34m\u001b[0m\u001b[0;34m\u001b[0m\u001b[0m\n\u001b[1;32m   1838\u001b[0m         \u001b[0mret\u001b[0m \u001b[0;34m=\u001b[0m \u001b[0mtorch\u001b[0m\u001b[0;34m.\u001b[0m\u001b[0m_C\u001b[0m\u001b[0;34m.\u001b[0m\u001b[0m_nn\u001b[0m\u001b[0;34m.\u001b[0m\u001b[0mnll_loss\u001b[0m\u001b[0;34m(\u001b[0m\u001b[0minput\u001b[0m\u001b[0;34m,\u001b[0m \u001b[0mtarget\u001b[0m\u001b[0;34m,\u001b[0m \u001b[0mweight\u001b[0m\u001b[0;34m,\u001b[0m \u001b[0m_Reduction\u001b[0m\u001b[0;34m.\u001b[0m\u001b[0mget_enum\u001b[0m\u001b[0;34m(\u001b[0m\u001b[0mreduction\u001b[0m\u001b[0;34m)\u001b[0m\u001b[0;34m,\u001b[0m \u001b[0mignore_index\u001b[0m\u001b[0;34m)\u001b[0m\u001b[0;34m\u001b[0m\u001b[0;34m\u001b[0m\u001b[0m\n",
      "\u001b[0;31mValueError\u001b[0m: Expected input batch_size (1) to match target batch_size (32)."
     ]
    }
   ],
   "source": [
    "# Data\n",
    "DATA_DIR = Path(\"data/names\")\n",
    "SHUFFLE = True\n",
    "# Hyperparameters\n",
    "LEARNING_RATE = 1e-3\n",
    "BATCH_SIZE = 32\n",
    "NUM_HIDDEN = 128\n",
    "EPOCHS = 1\n",
    "SAMPLES_PER_EPOCH = 1\n",
    "# Training options\n",
    "CUDA = True  # Set false if not using GPU\n",
    "# =======================================\n",
    "# =======================================\n",
    "train_dataset = NamesDataset(DATA_DIR)\n",
    "sample_weights = train_dataset.sample_weights\n",
    "class_weights = train_dataset.class_weights\n",
    "sampler = WeightedRandomSampler(sample_weights, len(train_dataset))\n",
    "train_dataloader = DataLoader(\n",
    "    train_dataset,\n",
    "    shuffle=SHUFFLE,\n",
    "    batch_size=BATCH_SIZE,\n",
    "    collate_fn=collate_batch,\n",
    "#     sampler=sampler,\n",
    "    num_workers=12,\n",
    ")\n",
    "print(f\"Dataset contains {len(train_dataset)} samples.\")\n",
    "# =======================================\n",
    "# =======================================\n",
    "# Keep track of losses for plotting\n",
    "current_loss = 0\n",
    "all_losses = []\n",
    "\n",
    "start = time.time()\n",
    "rnn = RNNClassifier(train_dataset.num_letters, NUM_HIDDEN, train_dataset.num_categories)\n",
    "if CUDA:\n",
    "    rnn.cuda()\n",
    "loss_fn = nn.CrossEntropyLoss()\n",
    "optimizer = optim.SGD(rnn.parameters(), lr=LEARNING_RATE)\n",
    "rnn.train()\n",
    "pbar = tqdm(\n",
    "        total=len(train_dataloader),\n",
    "        mininterval=0.5, maxinterval=2,\n",
    "        dynamic_ncols=True, leave=False,\n",
    "    )\n",
    "for epoch in range(1, EPOCHS + 1):\n",
    "    pbar.reset()\n",
    "    pbar.desc = f\"Epoch {epoch}\"\n",
    "    for i, (name_tensor, label) in enumerate(train_dataloader):\n",
    "        if SAMPLES_PER_EPOCH and i == SAMPLES_PER_EPOCH:\n",
    "            break\n",
    "        if CUDA:\n",
    "            name_tensor = name_tensor.cuda()\n",
    "            label = label.cuda()\n",
    "        optimizer.zero_grad()\n",
    "        pred = rnn(name_tensor)\n",
    "        pred_idx = pred.argmax(1)\n",
    "        loss = loss_fn(pred, label)\n",
    "        correct = torch.sum(pred_idx == label)\n",
    "        pbar.set_postfix(loss=loss.item())\n",
    "        loss.backward()\n",
    "        optimizer.step()\n",
    "        current_loss += loss\n",
    "        all_losses.append(loss.item())\n",
    "        pbar.update(1)\n",
    "    label_cat = train_dataset.categories[label[0]]\n",
    "    pred_cat = train_dataset.categories[pred_idx[0]]\n",
    "    correct = \"✓\" if pred_cat == label_cat else f\"✗ ({label_cat})\"\n",
    "    unpacked_name_tensor = unpack_tensor(name_tensor)\n",
    "    name = train_dataset.decode_name_tensor(unpacked_name_tensor[0])\n",
    "    print(f\"Name: {name} | Pred: {pred_cat} {correct}\")\n",
    "pbar.close()"
   ]
  },
  {
   "cell_type": "code",
   "execution_count": 22,
   "metadata": {},
   "outputs": [
    {
     "data": {
      "text/plain": [
       "<matplotlib.axes._subplots.AxesSubplot at 0x7f29ade76750>"
      ]
     },
     "execution_count": 22,
     "metadata": {},
     "output_type": "execute_result"
    },
    {
     "data": {
      "image/png": "[encoded data removed]",
      "text/plain": [
       "<Figure size 1296x432 with 1 Axes>"
      ]
     },
     "metadata": {
      "needs_background": "dark"
     },
     "output_type": "display_data"
    }
   ],
   "source": [
    "# plt.figure()\n",
    "plt.figure(figsize=(18, 6))\n",
    "sns.lineplot(list(range(len(all_losses))), all_losses)"
   ]
  },
  {
   "cell_type": "code",
   "execution_count": null,
   "metadata": {},
   "outputs": [],
   "source": [
    "confusion = torch.zeros(NUM_CATEGORIES, NUM_CATEGORIES)\n",
    "n_confusion = 10000\n",
    "\n",
    "def evaluate(model, line_tensor):\n",
    "    hidden = model.init_hidden()\n",
    "\n",
    "    for i in range(line_tensor.size()[0]):\n",
    "        output, hidden = model(line_tensor[i], hidden)\n",
    "\n",
    "    return output\n",
    "\n",
    "for i in range(n_confusion):\n",
    "    category, line, category_tensor, line_tensor = random_training_example()\n",
    "    output = evaluate(rnn, line_tensor)\n",
    "    guess, guess_i = category_from_output(output)\n",
    "    category_i = categories.index(category)\n",
    "    confusion[category_i][guess_i] += 1\n"
   ]
  }
 ],
 "metadata": {
  "kernelspec": {
   "display_name": "Python 3",
   "language": "python",
   "name": "python3"
  },
  "language_info": {
   "codemirror_mode": {
    "name": "ipython",
    "version": 3
   },
   "file_extension": ".py",
   "mimetype": "text/x-python",
   "name": "python",
   "nbconvert_exporter": "python",
   "pygments_lexer": "ipython3",
   "version": "3.7.6"
  }
 },
 "nbformat": 4,
 "nbformat_minor": 4
}
